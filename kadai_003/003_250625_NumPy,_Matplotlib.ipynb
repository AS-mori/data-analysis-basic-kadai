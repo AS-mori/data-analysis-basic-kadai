{
  "cells": [
    {
      "cell_type": "code",
      "execution_count": 1,
      "metadata": {
        "id": "xOfY1aO9stuf"
      },
      "outputs": [],
      "source": [
        "# NumPyをインポート\n",
        "import numpy as np"
      ]
    },
    {
      "cell_type": "code",
      "execution_count": 2,
      "metadata": {
        "id": "BgXHEXDDsy_X"
      },
      "outputs": [],
      "source": [
        "# 多次元配列A, Bを作成\n",
        "A = np.array([[0, 1], [2, 3], [4, 5]])\n",
        "B = np.array([[0, 1, 2 ,3], [4, 5, 6, 7]])"
      ]
    },
    {
      "cell_type": "code",
      "execution_count": 3,
      "metadata": {
        "colab": {
          "base_uri": "https://localhost:8080/"
        },
        "id": "OHSu8JuytmB0",
        "outputId": "8bbfae8c-f079-460c-a6f9-6b44890d83d6"
      },
      "outputs": [
        {
          "data": {
            "text/plain": [
              "array([[ 4,  5,  6,  7],\n",
              "       [12, 17, 22, 27],\n",
              "       [20, 29, 38, 47]])"
            ]
          },
          "execution_count": 3,
          "metadata": {},
          "output_type": "execute_result"
        }
      ],
      "source": [
        "# 配列A, Bの積を計算して結果を表示\n",
        "npdot = np.dot(A, B)\n",
        "npdot"
      ]
    },
    {
      "cell_type": "code",
      "execution_count": 5,
      "metadata": {
        "colab": {
          "base_uri": "https://localhost:8080/"
        },
        "id": "Rcsw7cq8vD61",
        "outputId": "e65bf379-3f8a-42ef-e558-6527b50f9d44"
      },
      "outputs": [
        {
          "data": {
            "text/plain": [
              "np.int64(47)"
            ]
          },
          "execution_count": 5,
          "metadata": {},
          "output_type": "execute_result"
        }
      ],
      "source": [
        "# npdotの最大値を求める\n",
        "np.max(npdot)"
      ]
    }
  ],
  "metadata": {
    "colab": {
      "provenance": []
    },
    "kernelspec": {
      "display_name": "Python 3",
      "name": "python3"
    },
    "language_info": {
      "name": "python"
    }
  },
  "nbformat": 4,
  "nbformat_minor": 0
}
